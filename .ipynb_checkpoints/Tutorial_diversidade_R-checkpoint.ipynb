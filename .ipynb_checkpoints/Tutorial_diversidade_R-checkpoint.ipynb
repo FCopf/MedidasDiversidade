{
 "cells": [
  {
   "cell_type": "markdown",
   "id": "06320650",
   "metadata": {
    "slideshow": {
     "slide_type": "slide"
    }
   },
   "source": [
    "# Medindo as diversidades $\\alpha$, $\\beta$ e $\\gamma$: tutorial no R\n",
    "\n",
    "Neste tutorial iremos utilizar uma base de dados denominada <a href=\"https://github.com/FCopf/MedidasDiversidade/blob/master/datasets/Baia_santos.xlsx\" target=\"_blank\">Baia_santos.xlsx</a>, contendo a abundância de $10$ espécies de peixes captradas na zona de arrebentação da Baía de Santos em $2015$. Cada linha da tabela representa uma amostra, isto é, um arrasto feito ao longo de $200$ m na zona de arrebentação, seguindo a direção da linha da costa. No total foram $12$ amostras. A primeira coluna identifica em que período do ano cada amostra foi obtida. As primeiras $6$ amostras foram tomadas no `VERAO` de $2015$ e as outras  $6$ no `INVERNO` de $2015$. As demais colunas mostram o número de indivíduos de cada espécie nas amostras. Os nomes das espécies foram omitidos para facilitar a apresentação dos dados.\n",
    "\n",
    "Vamos utilizar esta tabela como exemplo para calcularmos as diversidades $\\alpha$, $\\beta$ e $\\gamma$."
   ]
  },
  {
   "cell_type": "markdown",
   "id": "6aaccc26",
   "metadata": {
    "slideshow": {
     "slide_type": "subslide"
    }
   },
   "source": [
    "## Peixes de arrasto na zona de arrebentação da baía de Santos - SP"
   ]
  },
  {
   "cell_type": "markdown",
   "id": "3ef565e2",
   "metadata": {
    "slideshow": {
     "slide_type": "-"
    }
   },
   "source": [
    "![](imagens/arrasto/IMG_0069.JPG)"
   ]
  },
  {
   "cell_type": "markdown",
   "id": "ab18cc14",
   "metadata": {
    "slideshow": {
     "slide_type": "subslide"
    }
   },
   "source": [
    "![](imagens/Baia_Santos0.png)"
   ]
  },
  {
   "cell_type": "markdown",
   "id": "85618e92",
   "metadata": {
    "slideshow": {
     "slide_type": "slide"
    }
   },
   "source": [
    "## Carregando os pacotes do R"
   ]
  },
  {
   "cell_type": "code",
   "execution_count": null,
   "id": "47851f00",
   "metadata": {
    "slideshow": {
     "slide_type": "fragment"
    }
   },
   "outputs": [],
   "source": [
    "library(readxl)\n",
    "library(tidyverse)\n",
    "library(vegan)\n",
    "library(patchwork)\n",
    "library(iNEXT)"
   ]
  },
  {
   "cell_type": "markdown",
   "id": "27d8d3bb",
   "metadata": {
    "slideshow": {
     "slide_type": "slide"
    }
   },
   "source": [
    "## Importanto a base de dados"
   ]
  },
  {
   "cell_type": "markdown",
   "id": "b5878efc",
   "metadata": {
    "slideshow": {
     "slide_type": "-"
    }
   },
   "source": [
    "+ 10 espécies (linhas)\n",
    "\n",
    "+ 12 amostras (6 verão de 2015; 6 inverno de 2015)"
   ]
  },
  {
   "cell_type": "code",
   "execution_count": null,
   "id": "86090247",
   "metadata": {
    "slideshow": {
     "slide_type": "-"
    }
   },
   "outputs": [],
   "source": [
    "pe = read_excel('datasets/Baia_santos.xlsx')"
   ]
  },
  {
   "cell_type": "code",
   "execution_count": 1,
   "id": "975ce042",
   "metadata": {
    "slideshow": {
     "slide_type": "subslide"
    }
   },
   "outputs": [
    {
     "data": {
      "text/html": [
       "'/ssd/Onedrive/Gitrepo/MedidasDiversidade'"
      ],
      "text/latex": [
       "'/ssd/Onedrive/Gitrepo/MedidasDiversidade'"
      ],
      "text/markdown": [
       "'/ssd/Onedrive/Gitrepo/MedidasDiversidade'"
      ],
      "text/plain": [
       "[1] \"/ssd/Onedrive/Gitrepo/MedidasDiversidade\""
      ]
     },
     "metadata": {},
     "output_type": "display_data"
    }
   ],
   "source": [
    "pe"
   ]
  },
  {
   "cell_type": "code",
   "execution_count": null,
   "id": "af3bb6fb",
   "metadata": {
    "slideshow": {
     "slide_type": "subslide"
    }
   },
   "outputs": [],
   "source": [
    "glimpse(pe)"
   ]
  },
  {
   "cell_type": "markdown",
   "id": "2979febc",
   "metadata": {
    "slideshow": {
     "slide_type": "slide"
    }
   },
   "source": [
    "## Diversidade $\\alpha$\n",
    "\n",
    "A diversidade $\\alpha$ se refere às diversidades registradas localente, isto é, em cada uma das amostras.\n",
    "\n",
    "Podemos mensurar a diversidade de epécies pelos seus componentes de **riqueza**, **equabilidade** ou por algum índice que combine estes componentes, isto é, um **índice de diversidade**."
   ]
  },
  {
   "cell_type": "code",
   "execution_count": null,
   "id": "1e43b488",
   "metadata": {},
   "outputs": [],
   "source": [
    "pe"
   ]
  },
  {
   "cell_type": "markdown",
   "id": "7494e1cc",
   "metadata": {
    "slideshow": {
     "slide_type": "subslide"
    }
   },
   "source": [
    "### Riqueza de espécies\n",
    "\n",
    "+ refere-se simplesmente ao número de espécies em uma amostra\n",
    "+ função `specnumber()` do pacote `vegan`."
   ]
  },
  {
   "cell_type": "code",
   "execution_count": null,
   "id": "8c7760ba",
   "metadata": {
    "slideshow": {
     "slide_type": "-"
    }
   },
   "outputs": [],
   "source": [
    "pe = pe %>%\n",
    "  rowwise() %>% \n",
    "  mutate(S = specnumber(c_across(sp_1:sp_10)))"
   ]
  },
  {
   "cell_type": "code",
   "execution_count": null,
   "id": "c4a38be7",
   "metadata": {
    "slideshow": {
     "slide_type": "-"
    }
   },
   "outputs": [],
   "source": [
    "pe"
   ]
  },
  {
   "cell_type": "markdown",
   "id": "e6d6346a",
   "metadata": {
    "slideshow": {
     "slide_type": "subslide"
    }
   },
   "source": [
    "### Índice de diversidade de Simpson\n",
    "\n",
    "+ a probabilidade de que dois indivíduos retirados aleatoriamente de uma comunidade sejam da mesma espécie\n",
    "\n",
    "$$D = \\sum_{i = 1}^{S}\\left(\\frac{n_i(n_1 - 1)}{N(N-1)}\\right)$$\n",
    "\n",
    "+ função `diversity()` do pacote `vegan`\n",
    "    + `index = 'invsimpson'` --> recíproca do índice $\\frac{1}{D}$\n",
    "    + `index = 'simpson'` --> complementar do índice $1 - D$"
   ]
  },
  {
   "cell_type": "code",
   "execution_count": null,
   "id": "67649f7f",
   "metadata": {
    "slideshow": {
     "slide_type": "subslide"
    }
   },
   "outputs": [],
   "source": [
    "pe = pe %>%\n",
    "  rowwise() %>% \n",
    "  mutate(D = diversity(c_across(sp_1:sp_10), \n",
    "                       index = 'invsimpson'))"
   ]
  },
  {
   "cell_type": "code",
   "execution_count": null,
   "id": "35de7a1e",
   "metadata": {
    "slideshow": {
     "slide_type": "-"
    }
   },
   "outputs": [],
   "source": [
    "pe"
   ]
  },
  {
   "cell_type": "markdown",
   "id": "15e3390b",
   "metadata": {
    "slideshow": {
     "slide_type": "subslide"
    }
   },
   "source": [
    "### Equabilidade de Simpson\n",
    "\n",
    "+ mede a uniformidade das abunâncias entre espécies\n",
    "\n",
    "$$E_{1/D} = \\frac{1/D}{S}$$\n",
    "\n",
    "+ varia de $0$ (equabilidade mínima) a $1$ se todas as espécies tiverem exatamente a mesma abundância. "
   ]
  },
  {
   "cell_type": "code",
   "execution_count": null,
   "id": "be47e074",
   "metadata": {
    "slideshow": {
     "slide_type": "subslide"
    }
   },
   "outputs": [],
   "source": [
    "pe = pe %>%\n",
    "  rowwise() %>% \n",
    "  mutate(E = D/S)"
   ]
  },
  {
   "cell_type": "code",
   "execution_count": null,
   "id": "a368a0c5",
   "metadata": {
    "slideshow": {
     "slide_type": "-"
    }
   },
   "outputs": [],
   "source": [
    "pe"
   ]
  },
  {
   "cell_type": "markdown",
   "id": "ddb61b4a",
   "metadata": {
    "slideshow": {
     "slide_type": "subslide"
    }
   },
   "source": [
    "### Representação gráfica da diversidade $\\alpha$: Boxplots\n",
    "\n",
    "Como temos amostras de `VERAO` e `INVERNO`, nos interessa saber qual a distribuição da riqueza, diversidade e equabilidade nestes dois períodos."
   ]
  },
  {
   "cell_type": "code",
   "execution_count": null,
   "id": "79564ddb",
   "metadata": {
    "slideshow": {
     "slide_type": "subslide"
    }
   },
   "outputs": [],
   "source": [
    "ggplot(pe) +\n",
    "  aes(x = Epoca, y = D) +\n",
    "  geom_boxplot()"
   ]
  },
  {
   "cell_type": "code",
   "execution_count": null,
   "id": "b677d1c3",
   "metadata": {
    "slideshow": {
     "slide_type": "subslide"
    }
   },
   "outputs": [],
   "source": [
    "plt_D = ggplot(pe) +\n",
    "  aes(x = Epoca, y = D) +\n",
    "  geom_boxplot(fill = 'lightblue', alpha = 0.5) +\n",
    "  geom_jitter(width = 0.1, size = 3) +\n",
    "  labs(y = 'Diversidade de Simpson (1/D)', \n",
    "        x = '') +\n",
    "  theme_classic()\n",
    "\n",
    "plt_S = ggplot(pe) +\n",
    "  aes(x = Epoca, y = S) +\n",
    "  geom_boxplot(fill = 'lightblue', alpha = 0.5) +\n",
    "  geom_jitter(width = 0.1, size = 3) +\n",
    "  labs(y = 'Riqueza de Espécies (S)', \n",
    "        x = '') +\n",
    "  theme_classic()\n",
    "\n",
    "plt_E = ggplot(pe) +\n",
    "  aes(x = Epoca, y = E) +\n",
    "  geom_boxplot(fill = 'lightblue', alpha = 0.5) +\n",
    "  geom_jitter(width = 0.1, size = 3) +\n",
    "  labs(y = 'Equabilidade de Simpson (E)', \n",
    "        x = '') +\n",
    "  theme_classic()"
   ]
  },
  {
   "cell_type": "code",
   "execution_count": null,
   "id": "d6f6f202",
   "metadata": {
    "slideshow": {
     "slide_type": "subslide"
    }
   },
   "outputs": [],
   "source": [
    "options(repr.plot.width = 12, repr.plot.height = 5, repr.plot.res = 200) "
   ]
  },
  {
   "cell_type": "code",
   "execution_count": null,
   "id": "279a80df",
   "metadata": {
    "slideshow": {
     "slide_type": "-"
    }
   },
   "outputs": [],
   "source": [
    "plt_D | plt_S | plt_E"
   ]
  },
  {
   "cell_type": "markdown",
   "id": "8c660e9f",
   "metadata": {
    "slideshow": {
     "slide_type": "slide"
    }
   },
   "source": [
    "## Diversidade $\\gamma$\n",
    "\n",
    "+ Curva de acumulação de espécies: como a riqueza total aumenta à medida que aumenta o esforço amostral, isto é, o número de indivíduos coletados?\n",
    "\n",
    "+ pacote `iNEXT`"
   ]
  },
  {
   "cell_type": "code",
   "execution_count": null,
   "id": "99997d57",
   "metadata": {
    "slideshow": {
     "slide_type": "fragment"
    }
   },
   "outputs": [],
   "source": [
    "pe_list = list()\n",
    "\n",
    "pe_list$VERAO = pe %>% \n",
    "  filter(Epoca == 'VERAO') %>% \n",
    "  select(sp_1:sp_10) %>% \n",
    "  colSums()\n",
    "  \n",
    "pe_list$INVERNO = pe %>% \n",
    "  filter(Epoca == 'INVERNO') %>% \n",
    "  select(sp_1:sp_10) %>% \n",
    "  colSums()"
   ]
  },
  {
   "cell_type": "code",
   "execution_count": null,
   "id": "c0929332",
   "metadata": {
    "slideshow": {
     "slide_type": "subslide"
    }
   },
   "outputs": [],
   "source": [
    "pe_list"
   ]
  },
  {
   "cell_type": "code",
   "execution_count": null,
   "id": "df7eeb4a",
   "metadata": {
    "slideshow": {
     "slide_type": "subslide"
    }
   },
   "outputs": [],
   "source": [
    "gama_ac = iNEXT(pe_list, \n",
    "                 datatype = 'abundance', \n",
    "                 q = 0) # q = 0 --> Riqueza de espécies\n"
   ]
  },
  {
   "cell_type": "markdown",
   "id": "3bebbbe9",
   "metadata": {
    "slideshow": {
     "slide_type": "subslide"
    }
   },
   "source": [
    "### Representação gráfica da curva de acumulação"
   ]
  },
  {
   "cell_type": "code",
   "execution_count": null,
   "id": "a41da027",
   "metadata": {
    "slideshow": {
     "slide_type": "-"
    }
   },
   "outputs": [],
   "source": [
    "plt_gama = ggiNEXT(gama_ac) +\n",
    "  labs(y = 'Riqueza acumulada',\n",
    "       x = 'Número de indivíduos') +\n",
    "  theme_classic() +\n",
    "  scale_y_continuous(breaks = 0:10) +\n",
    "  theme(legend.position = \"bottom\", \n",
    "        legend.title=element_blank())"
   ]
  },
  {
   "cell_type": "code",
   "execution_count": null,
   "id": "a217698b",
   "metadata": {
    "slideshow": {
     "slide_type": "subslide"
    }
   },
   "outputs": [],
   "source": [
    "options(repr.plot.width = 8, repr.plot.height = 6, repr.plot.res = 200) "
   ]
  },
  {
   "cell_type": "code",
   "execution_count": null,
   "id": "ffe7258e",
   "metadata": {
    "slideshow": {
     "slide_type": "-"
    }
   },
   "outputs": [],
   "source": [
    "plt_gama"
   ]
  },
  {
   "cell_type": "markdown",
   "id": "d5be8d99",
   "metadata": {
    "slideshow": {
     "slide_type": "slide"
    }
   },
   "source": [
    "## Diversidade $\\beta$\n",
    "\n",
    "+ Índice de Jaccard calcula a similaridade par-a-par\n",
    "\n",
    "$$J = \\frac{a}{a + b + c}$$\n",
    "\n",
    "    + a: número de espécies presentes nas duas amostras;\n",
    "\n",
    "    + b: número de espécies presentes somente na Amostra 1;\n",
    "\n",
    "    + c: número de espécies presentes somente na Amostra 2."
   ]
  },
  {
   "cell_type": "markdown",
   "id": "e1e3e8a9",
   "metadata": {
    "slideshow": {
     "slide_type": "subslide"
    }
   },
   "source": [
    "### Matriz de distância\n",
    "\n",
    "+ a função `decostand(method = 'pa')` cria uma matriz de presença-ausência;\n",
    "\n",
    "+ função `vegdist()` do pacote `vegan` calcula a **distância** de Jaccard, isto é, \n",
    "\n",
    "$$1 - J$$"
   ]
  },
  {
   "cell_type": "code",
   "execution_count": null,
   "id": "a4adb621",
   "metadata": {
    "slideshow": {
     "slide_type": "-"
    }
   },
   "outputs": [],
   "source": [
    "pe_ocor = pe %>% \n",
    "  select(sp_1:sp_10) %>% \n",
    "  decostand(method = 'pa')\n",
    "\n",
    "jac = vegdist(pe_ocor, method = 'jaccard', binary = TRUE)"
   ]
  },
  {
   "cell_type": "markdown",
   "id": "0ff3a6c4",
   "metadata": {
    "slideshow": {
     "slide_type": "subslide"
    }
   },
   "source": [
    "### Representando uma matriz de dissimilaridade"
   ]
  },
  {
   "cell_type": "code",
   "execution_count": null,
   "id": "250f60ba",
   "metadata": {
    "slideshow": {
     "slide_type": "-"
    }
   },
   "outputs": [],
   "source": [
    "jac"
   ]
  },
  {
   "cell_type": "markdown",
   "id": "6b36d50c",
   "metadata": {
    "slideshow": {
     "slide_type": "subslide"
    }
   },
   "source": [
    "### Análise de Coordenadas Principais (PCoA)\n",
    "\n",
    "+ Representando as distâncias em dois eixos"
   ]
  },
  {
   "cell_type": "code",
   "execution_count": null,
   "id": "844611fd",
   "metadata": {},
   "outputs": [],
   "source": [
    "# Fazendo a PCoA\n",
    "pcoa = cmdscale(jac, eig = TRUE)\n",
    "\n",
    "# Mapeando as amostras\n",
    "mapa_amostras = pcoa$points %>%\n",
    "  as.data.frame() %>% \n",
    "  mutate(Epoca = pe$Epoca)\n",
    "\n",
    "# Mapeando as espécies\n",
    "mapa_especies = envfit(pcoa, pe_ocor)$vectors$arrows[,1:2] %>%\n",
    "  as.data.frame() %>% \n",
    "  rownames_to_column(var = 'Especies')\n"
   ]
  },
  {
   "cell_type": "code",
   "execution_count": null,
   "id": "f5051121",
   "metadata": {
    "slideshow": {
     "slide_type": "subslide"
    }
   },
   "outputs": [],
   "source": [
    "options(repr.plot.width = 8, repr.plot.height = 5, repr.plot.res = 200) "
   ]
  },
  {
   "cell_type": "code",
   "execution_count": null,
   "id": "255f1d51",
   "metadata": {
    "slideshow": {
     "slide_type": "-"
    }
   },
   "outputs": [],
   "source": [
    "plt_beta = ggplot() +\n",
    "  geom_point(data = mapa_amostras,\n",
    "             aes(x = V1, y = V2, color = Epoca)) +\n",
    "  geom_text(data = mapa_especies,\n",
    "             aes(x = Dim1, y = Dim2, label = Especies), \n",
    "            color = 'darkblue') +\n",
    "  labs(x = 'Eixo 1', y = 'Eixo 2') +\n",
    "  theme_bw()\n",
    "\n",
    "plt_beta"
   ]
  },
  {
   "cell_type": "markdown",
   "id": "603a3e21",
   "metadata": {
    "slideshow": {
     "slide_type": "slide"
    }
   },
   "source": [
    "## Salvando as figuras deste tutorial"
   ]
  },
  {
   "cell_type": "code",
   "execution_count": null,
   "id": "84ca3896",
   "metadata": {},
   "outputs": [],
   "source": [
    "# Diversidade alfa\n",
    "div_alfa = plt_D | plt_S | plt_E\n",
    "ggsave(filename = 'Diversidade_alfa.png', \n",
    "       plot = div_alfa, \n",
    "       width = 15, height = 5)\n",
    "\n",
    "# Diversidade gama\n",
    "div_gama = plt_gama\n",
    "ggsave(filename = 'Diversidade_gama.png', \n",
    "       plot = div_gama, \n",
    "       width = 7, height = 5)\n",
    "\n",
    "# Diversidade beta\n",
    "div_beta = plt_beta\n",
    "ggsave(filename = 'Diversidade_beta.png', \n",
    "       plot = div_beta,\n",
    "       width = 7, height = 5)"
   ]
  }
 ],
 "metadata": {
  "celltoolbar": "Slideshow",
  "kernelspec": {
   "display_name": "R",
   "language": "R",
   "name": "ir"
  },
  "language_info": {
   "codemirror_mode": "r",
   "file_extension": ".r",
   "mimetype": "text/x-r-source",
   "name": "R",
   "pygments_lexer": "r",
   "version": "4.1.2"
  }
 },
 "nbformat": 4,
 "nbformat_minor": 5
}
